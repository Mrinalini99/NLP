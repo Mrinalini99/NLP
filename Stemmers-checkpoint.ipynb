{
 "cells": [
  {
   "cell_type": "code",
   "execution_count": 1,
   "metadata": {},
   "outputs": [
    {
     "data": {
      "text/plain": [
       "'s'"
      ]
     },
     "execution_count": 1,
     "metadata": {},
     "output_type": "execute_result"
    }
   ],
   "source": [
    "#17BCE0505 - STEMMERS\n",
    "\n",
    "#RegExp Stemmer\n",
    "\n",
    "import nltk\n",
    "from nltk.stem import RegexpStemmer   #Importing the Stemmer\n",
    "#Perform the operation of the stemmer\n",
    "stemmerregexp=RegexpStemmer('ing');\n",
    "stemmerregexp.stem('sing')"
   ]
  },
  {
   "cell_type": "code",
   "execution_count": 2,
   "metadata": {},
   "outputs": [
    {
     "name": "stdout",
     "output_type": "stream",
     "text": [
      "je suis j\n"
     ]
    }
   ],
   "source": [
    "#Snowball Stemmer\n",
    "\n",
    "import nltk\n",
    "from nltk.stem import SnowballStemmer   #Importing the Stemmer\n",
    "SnowballStemmer.languages\n",
    "frenchStemmer=SnowballStemmer('french');   #Choosing the language\n",
    "print(frenchStemmer.stem('Je suis Jai'));    #Performing the operation"
   ]
  },
  {
   "cell_type": "code",
   "execution_count": 3,
   "metadata": {},
   "outputs": [
    {
     "name": "stderr",
     "output_type": "stream",
     "text": [
      "[nltk_data] Downloading package wordnet to C:\\Users\\Anusha\n",
      "[nltk_data]     Sinha\\AppData\\Roaming\\nltk_data...\n",
      "[nltk_data]   Package wordnet is already up-to-date!\n"
     ]
    },
    {
     "name": "stdout",
     "output_type": "stream",
     "text": [
      "cactus\n",
      "mouse\n",
      "rock\n"
     ]
    }
   ],
   "source": [
    "#WordNet Lemmatizer\n",
    "\n",
    "import nltk\n",
    "nltk.download('wordnet')\n",
    "from nltk.stem import WordNetLemmatizer   #Importing the Stemmer\n",
    "lemmatizer=WordNetLemmatizer();   #Initializing the Lemmatizer\n",
    "\n",
    "#Performing the operations of the Stemmer\n",
    "print(lemmatizer.lemmatize(\"cacti\"))\n",
    "print(lemmatizer.lemmatize(\"mice\"))\n",
    "print(lemmatizer.lemmatize(\"rocks\"))"
   ]
  },
  {
   "cell_type": "code",
   "execution_count": 4,
   "metadata": {},
   "outputs": [
    {
     "name": "stdout",
     "output_type": "stream",
     "text": [
      "Am quick brown fox jump over a lazi dog\n"
     ]
    }
   ],
   "source": [
    "#Porter stemmer\n",
    "\n",
    "from nltk.stem import PorterStemmer   #Importing the Stemmer\n",
    "stemmer=PorterStemmer()   #Initializing the Lemmatizer   \n",
    "example=\"Am quick brown fox jumps over a lazy dog\"    #Initialising the sentence on which operations are to be performed\n",
    "\n",
    "#Performing the operations of the Stemmer: Split The Tokens on basis of spaces\n",
    "example=[stemmer.stem(token) for token in example.split(\" \")]    \n",
    "#Performing the operations of the Stemmer: Join The Tokens with spaces in between\n",
    "print(\" \".join(example))   "
   ]
  },
  {
   "cell_type": "code",
   "execution_count": null,
   "metadata": {},
   "outputs": [],
   "source": []
  }
 ],
 "metadata": {
  "kernelspec": {
   "display_name": "Python 3",
   "language": "python",
   "name": "python3"
  },
  "language_info": {
   "codemirror_mode": {
    "name": "ipython",
    "version": 3
   },
   "file_extension": ".py",
   "mimetype": "text/x-python",
   "name": "python",
   "nbconvert_exporter": "python",
   "pygments_lexer": "ipython3",
   "version": "3.7.4"
  }
 },
 "nbformat": 4,
 "nbformat_minor": 2
}
